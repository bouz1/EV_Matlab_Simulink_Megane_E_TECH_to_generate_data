{
 "cells": [
  {
   "cell_type": "markdown",
   "id": "76e8818c-ff26-4cee-8c47-53726321d846",
   "metadata": {
    "tags": []
   },
   "source": [
    "### Create the project stricture"
   ]
  },
  {
   "cell_type": "code",
   "execution_count": 1,
   "id": "6c722241-1b41-409d-87f0-a2cd9edfb191",
   "metadata": {},
   "outputs": [],
   "source": [
    "import os\n",
    "from bigtree import list_to_tree, print_tree"
   ]
  },
  {
   "cell_type": "code",
   "execution_count": 2,
   "id": "893a1b25-f9be-4a6d-87ee-6daf1f0434bf",
   "metadata": {},
   "outputs": [],
   "source": [
    "#!pip install bigtree"
   ]
  },
  {
   "cell_type": "code",
   "execution_count": 3,
   "id": "ce2e9a7d-ab37-4d72-9f4f-f1bf2eb0dfa5",
   "metadata": {},
   "outputs": [],
   "source": [
    "folders=[\n",
    "'01_data',  '01_data/01_raw','01_data/02_processed', '01_data/02_output',\n",
    "'02_queries','02_queries/01_exploring', '02_queries/02_preprocessed',\n",
    "'03_notebooks','03_notebooks/01_draft','03_notebooks/02_exploring','03_notebooks/03_final',\n",
    "'04_models','04_models/01_exploring','04_models/02_final',\n",
    "'05_pyhton_sript',\n",
    "'06_reports','06_reports/01_figures','06_reports/02_HTMLs','06_reports/03_others',\n",
    "'07_other_files'\n",
    "]\n",
    "\n",
    "for f in folders:\n",
    "    try:os.mkdir(f) \n",
    "    except Exception as e: print(e)"
   ]
  },
  {
   "cell_type": "code",
   "execution_count": 2,
   "id": "b50ab604-2f94-42b5-bec3-332ef39b282a",
   "metadata": {},
   "outputs": [
    {
     "data": {
      "text/plain": [
       "'C:\\\\Users\\\\a037702\\\\OneDrive - Alliance\\\\00_DATA_SCIENCE\\\\10_personnel\\\\04_GIT_CLONE\\\\EV_Matlab_Simulink_Megane_E_TECH_to_generate_data'"
      ]
     },
     "execution_count": 2,
     "metadata": {},
     "output_type": "execute_result"
    }
   ],
   "source": [
    "directory=os.getcwd()\n",
    "directory"
   ]
  },
  {
   "cell_type": "code",
   "execution_count": 5,
   "id": "fee31e57-e6be-4a37-9465-2fb2098ad2aa",
   "metadata": {},
   "outputs": [
    {
     "name": "stdout",
     "output_type": "stream",
     "text": [
      "C:\n",
      "└── Users\n",
      "    └── a037702\n",
      "        └── OneDrive - Alliance\n",
      "            └── 00_DATA_SCIENCE\n",
      "                └── 10_personnel\n",
      "                    └── 04_GIT_CLONE\n",
      "                        └── EV_Matlab_Simulink_Megane_E_TECH_to_generate_data\n",
      "                            ├── data\n",
      "                            │   ├── output\n",
      "                            │   ├── processed\n",
      "                            │   └── raw\n",
      "                            ├── matlabFiles\n",
      "                            │   ├── NEDC\n",
      "                            │   ├── ParisA5_225km\n",
      "                            │   ├── Prints\n",
      "                            │   ├── Speed_autonomy\n",
      "                            │   ├── testSubSystems\n",
      "                            │   └── WLTC\n",
      "                            ├── Notebooks\n",
      "                            │   └── old_draft\n",
      "                            └── otherFiles\n",
      "                                └── figures\n"
     ]
    }
   ],
   "source": [
    "path_list=[x[0] for x in os.walk(directory) if not('.' in x[0])] \n",
    "root = list_to_tree(path_list, sep='\\\\')\n",
    "print_tree(root)"
   ]
  },
  {
   "cell_type": "code",
   "execution_count": 7,
   "id": "44e823e1-eb47-44c5-804c-e4029efb49f2",
   "metadata": {},
   "outputs": [
    {
     "name": "stdout",
     "output_type": "stream",
     "text": [
      "EV_Matlab_Simulink_Megane_E_TECH_to_generate_data\n",
      "├── .git\n",
      "│   ├── hooks\n",
      "│   ├── info\n",
      "│   ├── logs\n",
      "│   │   └── refs\n",
      "│   │       ├── heads\n",
      "│   │       └── remotes\n",
      "│   │           └── origin\n",
      "│   ├── objects\n",
      "│   │   ├── info\n",
      "│   │   └── pack\n",
      "│   └── refs\n",
      "│       ├── heads\n",
      "│       ├── remotes\n",
      "│       │   └── origin\n",
      "│       └── tags\n",
      "├── .ipynb_checkpoints\n",
      "├── data\n",
      "│   ├── output\n",
      "│   ├── processed\n",
      "│   └── raw\n",
      "├── matlabFiles\n",
      "│   ├── NEDC\n",
      "│   ├── ParisA5_225km\n",
      "│   ├── Prints\n",
      "│   ├── Speed_autonomy\n",
      "│   ├── testSubSystems\n",
      "│   └── WLTC\n",
      "├── Notebooks\n",
      "│   └── old_draft\n",
      "└── otherFiles\n",
      "    └── figures\n"
     ]
    }
   ],
   "source": [
    "last_folder=directory.split('\\\\')[-1]\n",
    "\n",
    "path_list=[x[0].replace(directory,last_folder) for x in os.walk(directory)]# if not('.' in x[0])] \n",
    "root = list_to_tree(path_list, sep='\\\\')\n",
    "print_tree(root)"
   ]
  },
  {
   "cell_type": "code",
   "execution_count": null,
   "id": "f1fcf8b0-deff-452b-bc86-ee150fe822f1",
   "metadata": {},
   "outputs": [],
   "source": [
    "EV_Matlab_Simulink_Megane_E_TECH_to_generate_data\n",
    "├── data\n",
    "│   ├── output\n",
    "│   ├── processed\n",
    "│   └── raw\n",
    "├── matlabFiles\n",
    "│   ├── NEDC\n",
    "│   ├── ParisA5_225km\n",
    "│   ├── Prints\n",
    "│   ├── Speed_autonomy\n",
    "│   ├── testSubSystems\n",
    "│   └── WLTC\n",
    "├── Notebooks\n",
    "│   └── old_draft\n",
    "└── otherFiles\n",
    "    └── figures"
   ]
  },
  {
   "cell_type": "code",
   "execution_count": null,
   "id": "0979d7ea-4490-4b40-bb34-88bf40a31cb7",
   "metadata": {},
   "outputs": [],
   "source": []
  }
 ],
 "metadata": {
  "environment": {
   "kernel": "python3",
   "name": "tf2-cpu.2-11.m116",
   "type": "gcloud",
   "uri": "gcr.io/deeplearning-platform-release/tf2-cpu.2-11:m116"
  },
  "kernelspec": {
   "display_name": "Python 3 (ipykernel)",
   "language": "python",
   "name": "python3"
  },
  "language_info": {
   "codemirror_mode": {
    "name": "ipython",
    "version": 3
   },
   "file_extension": ".py",
   "mimetype": "text/x-python",
   "name": "python",
   "nbconvert_exporter": "python",
   "pygments_lexer": "ipython3",
   "version": "3.10.5"
  }
 },
 "nbformat": 4,
 "nbformat_minor": 5
}
