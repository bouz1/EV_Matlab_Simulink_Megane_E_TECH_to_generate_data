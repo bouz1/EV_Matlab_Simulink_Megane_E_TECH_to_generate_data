{
 "cells": [
  {
   "cell_type": "markdown",
   "id": "a8f7ea6a-6d30-4891-9b67-b02130b53c19",
   "metadata": {},
   "source": [
    "## Dataset exploration"
   ]
  },
  {
   "cell_type": "markdown",
   "id": "b0fc5f70-cd81-432b-9289-274065f89406",
   "metadata": {},
   "source": [
    "The idea of this project is to generate a dataset of electric vehicle driving using a Matlab/simulink simulation model. The dataset will be published in many plateformes as kaggle and github to be accessible by others sudents / data scientist / analyst. <br><br>"
   ]
  },
  {
   "cell_type": "markdown",
   "id": "89e1fdee-9287-4144-86f5-e01bf4f17cd9",
   "metadata": {},
   "source": [
    "**Columns description**"
   ]
  },
  {
   "cell_type": "markdown",
   "id": "60785ca4-d89e-4b47-84c5-5cf9d0ad503c",
   "metadata": {},
   "source": [
    "* I_bat_ev : The HV battery current [A]\n",
    "* Power_AC_ev : The AC power, transferred from the inverter to the motor [W]\n",
    "* Power_DC_ev : The DC power, transferred from the battery to the inverter [W]\n",
    "* Power_meca_ev : The mechanical power, the output of the motor [W]\n",
    "* Power_wheel_ev : The mechanical power, in the output of the motor reductor [W]\n",
    "* Ubat_ev : The battery DC voltage [V]\n",
    "* acceleration_break : The acceleration/break command, range [-1,1], [-1,0] : break, [0,1] : acceleration\n",
    "* acceleration_ev : The acceleration the EV [m/s2]\n",
    "* distance_ev : The distance of the EV [m]\n",
    "* kmph_meas : The speed of the EV [km/h]\n",
    "* kmph_ref : The speed reference of the EV [km/h]\n",
    "* loss_INV_ev : The power loss of the inverter [W]\n",
    "* loss_batt_ev : The power loss of the battery [W]\n",
    "* loss_body_ev : The power loss of the vehicle body (drag, rolling, ...) [W]\n",
    "* loss_motor_ev : The power loss of the motor [W]\n",
    "* road_grad : The road gradient [°]\n",
    "* soc_ev : The battery state of charge (soc) [ %]\n",
    "* time : The time [s]\n",
    "* torque_motor_ev : The motor torque [N.m]\n",
    "* rpm : The motor speed [tr/min]\n",
    "* session : The simulation session, NEDC cyle, WLTC cyle, Highway driving, the step speed driving\n",
    "* bat_energy_kwh : the battery energy [kWh]"
   ]
  }
 ],
 "metadata": {
  "kernelspec": {
   "display_name": "Python 3 (ipykernel)",
   "language": "python",
   "name": "python3"
  },
  "language_info": {
   "codemirror_mode": {
    "name": "ipython",
    "version": 3
   },
   "file_extension": ".py",
   "mimetype": "text/x-python",
   "name": "python",
   "nbconvert_exporter": "python",
   "pygments_lexer": "ipython3",
   "version": "3.10.5"
  }
 },
 "nbformat": 4,
 "nbformat_minor": 5
}
