{
 "cells": [
  {
   "cell_type": "code",
   "execution_count": null,
   "id": "d92a801f-721e-4183-a3df-10703ecdf4ca",
   "metadata": {},
   "outputs": [],
   "source": []
  },
  {
   "cell_type": "markdown",
   "id": "5827b06e-61e8-49f7-b8bc-9aceefb9e44c",
   "metadata": {},
   "source": [
    "<img src='../otherFiles/projectCoverPicture.png'>"
   ]
  },
  {
   "cell_type": "code",
   "execution_count": null,
   "id": "d2f40598-ec64-4a05-8e3f-55572a1c861b",
   "metadata": {},
   "outputs": [],
   "source": []
  },
  {
   "cell_type": "code",
   "execution_count": null,
   "id": "b16a85b0-9ce0-4643-8748-cf16a10457bc",
   "metadata": {},
   "outputs": [],
   "source": []
  },
  {
   "cell_type": "code",
   "execution_count": null,
   "id": "229bd581-16a9-4c5f-96ab-094a5575c3e2",
   "metadata": {},
   "outputs": [],
   "source": []
  }
 ],
 "metadata": {
  "kernelspec": {
   "display_name": "Python 3 (ipykernel)",
   "language": "python",
   "name": "python3"
  },
  "language_info": {
   "codemirror_mode": {
    "name": "ipython",
    "version": 3
   },
   "file_extension": ".py",
   "mimetype": "text/x-python",
   "name": "python",
   "nbconvert_exporter": "python",
   "pygments_lexer": "ipython3",
   "version": "3.10.5"
  }
 },
 "nbformat": 4,
 "nbformat_minor": 5
}
