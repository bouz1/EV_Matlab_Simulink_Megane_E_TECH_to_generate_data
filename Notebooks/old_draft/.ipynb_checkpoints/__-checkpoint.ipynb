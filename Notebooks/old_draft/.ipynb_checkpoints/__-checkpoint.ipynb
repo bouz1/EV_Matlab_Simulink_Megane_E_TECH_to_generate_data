{
 "cells": [
  {
   "cell_type": "code",
   "execution_count": 18,
   "id": "191b2733-a02a-4970-8ab3-366f54d32d04",
   "metadata": {
    "tags": []
   },
   "outputs": [],
   "source": [
    "import json \n",
    "import numpy as np\n",
    "with open('EV_Megan_E_TECH_Simulation_V0.ipynb', encoding=\"utf-8\") as f:\n",
    "    notb_js=json.loads(f.read())\n",
    "    f.close()"
   ]
  },
  {
   "cell_type": "code",
   "execution_count": 19,
   "id": "acd5f046-01f5-4e06-b534-ab0c46a783be",
   "metadata": {},
   "outputs": [],
   "source": [
    "\n",
    "import re\n",
    "# regex pattern\n",
    "pattern = r'<a class=\"title_class\" id=\".*?\"></a>'\n",
    "\n",
    "for i,x in enumerate(notb_js['cells']):\n",
    "    try:\n",
    "        if x['cell_type']=='markdown':\n",
    "            string=x['source'][0]\n",
    "            new_string = re.sub(pattern, '', string)\n",
    "            #print('string', string)\n",
    "            #print('new str',new_string)\n",
    "            notb_js['cells'][i]['source'][0]=new_string\n",
    "            \n",
    "    except : pass\n",
    "\n",
    "titile1_id=0\n",
    "table=[]\n",
    "level=3\n",
    "\n",
    "\n"
   ]
  },
  {
   "cell_type": "code",
   "execution_count": null,
   "id": "7325ac4d-c78d-4142-bfef-00724880fb21",
   "metadata": {},
   "outputs": [],
   "source": []
  },
  {
   "cell_type": "code",
   "execution_count": 20,
   "id": "aeb433e3-9676-4a5c-a999-39f8bcb168fe",
   "metadata": {},
   "outputs": [
    {
     "name": "stdout",
     "output_type": "stream",
     "text": [
      "# Introduction <a class=\"title_class\" id=\"title_1\"></a>\n",
      "## Abbreviation & keywords <a class=\"title_class\" id=\"title_2\"></a>\n",
      "## Links <a class=\"title_class\" id=\"title_3\"></a>\n",
      "# Table of contents <a class=\"title_class\" id=\"title_4\"></a>\n",
      "# NEDC vs WLTC Cycles <a class=\"title_class\" id=\"title_5\"></a>\n",
      "## Import of the libraries <a class=\"title_class\" id=\"title_6\"></a>\n",
      "## NEDC vs WLTC  <a class=\"title_class\" id=\"title_7\"></a>\n",
      "# Simulation element tests <a class=\"title_class\" id=\"title_8\"></a>\n",
      "## Motor <a class=\"title_class\" id=\"title_9\"></a>\n",
      "## Battery <a class=\"title_class\" id=\"title_10\"></a>\n",
      "## Body  <a class=\"title_class\" id=\"title_11\"></a>\n",
      "## PI regulator, speed controller  <a class=\"title_class\" id=\"title_12\"></a>\n",
      "# Driving simulation WLTC / NEDC/ Heighway ... <a class=\"title_class\" id=\"title_13\"></a>\n",
      "## WLTC Cycle <a class=\"title_class\" id=\"title_14\"></a>\n",
      "## NEDC Cycle <a class=\"title_class\" id=\"title_15\"></a>\n",
      "## Paris heigh way A5 225km <a class=\"title_class\" id=\"title_16\"></a>\n",
      "## The impact of speed on autonomy <a class=\"title_class\" id=\"title_17\"></a>\n",
      "## Comparaison <a class=\"title_class\" id=\"title_18\"></a>\n",
      "## Save the data <a class=\"title_class\" id=\"title_19\"></a>\n",
      "## Download dataset <a class=\"title_class\" id=\"title_20\"></a>\n",
      "## Dataset exploration <a class=\"title_class\" id=\"title_21\"></a>\n",
      "# Annexes <a class=\"title_class\" id=\"title_22\"></a>\n",
      "## Convert a route from google maps to GPS coordinates <a class=\"title_class\" id=\"title_23\"></a>\n",
      "### Get the data <a class=\"title_class\" id=\"title_24\"></a>\n",
      "## Post-processing of data <a class=\"title_class\" id=\"title_25\"></a>\n",
      "### Time row <a class=\"title_class\" id=\"title_26\"></a>\n",
      "### The road gradient <a class=\"title_class\" id=\"title_27\"></a>\n",
      "# Matlab / Simulink <a class=\"title_class\" id=\"title_28\"></a>\n",
      "## Newton's second law <a class=\"title_class\" id=\"title_29\"></a>\n",
      "## Simulation hypotheses <a class=\"title_class\" id=\"title_30\"></a>\n",
      "## Simulink <a class=\"title_class\" id=\"title_31\"></a>\n",
      "### Initialisation <a class=\"title_class\" id=\"title_32\"></a>\n",
      "### Simulation blocks <a class=\"title_class\" id=\"title_33\"></a>\n"
     ]
    }
   ],
   "source": [
    "titile1_id=0\n",
    "table=[]\n",
    "\n",
    "level=3\n",
    "\n",
    "    \n",
    "for i,x in enumerate(notb_js['cells']):\n",
    "    hash_level=''\n",
    "    for k in range(level):\n",
    "        hash_level+='#'\n",
    "        try:\n",
    "            if x['cell_type']=='markdown':\n",
    "                hash_=x['source'][0].split(' ')[0]\n",
    "                if hash_==hash_level:\n",
    "                    titile1_id+=1\n",
    "                    id_='title_'+str(titile1_id)\n",
    "                    title_=x['source'][0]\n",
    "                    title_=title_.split('\\n')[0]\n",
    "                    title_2=title_+ ' <a class=\"title_class\" id=\"'+id_+'\"></a>'\n",
    "                    print( title_2)\n",
    "                    title_without_hash=' '.join(title_.split(' ')[1:])\n",
    "                    table.append(k*'\\t'+'* [' +  title_without_hash+']'+ '(#'+ id_+')')\n",
    "                    notb_js['cells'][i]['source'][0]=title_2\n",
    "        except: pass"
   ]
  },
  {
   "cell_type": "raw",
   "id": "79d2d605-7795-45fa-970d-2769c9833433",
   "metadata": {},
   "source": [
    "print('\\n'.join(table))\n",
    "\n",
    "Table_contents='# Table of contents\\n'+'\\n'.join(table)\n",
    "print(Table_contents)\n",
    "\n",
    "# Creat Table_contents in the top of the notebook\n",
    "\n",
    "cell_id=''.join(np.random.choice(np.arange(0,16), size=37, replace=True).astype(str))\n",
    "\n",
    "notb_js['cells']=[{'cell_type': 'markdown',\n",
    "  'id': cell_id,\n",
    "  'metadata': {},\n",
    "  'source': [Table_contents]}]+notb_js['cells']\n",
    "\n",
    "\n",
    "\n"
   ]
  },
  {
   "cell_type": "code",
   "execution_count": 21,
   "id": "ee9cdb4f-524c-4823-b6df-f16752447bce",
   "metadata": {},
   "outputs": [],
   "source": [
    "# change Table_contents : cell must be taget with a name '# Table of contents'\n",
    "\n",
    "for i,x in enumerate(notb_js['cells']):\n",
    "        try:\n",
    "            if x['cell_type']=='markdown' and '# Table of contents' in x['source'][0]:\n",
    "                notb_js['cells'][i]['source']=[Table_contents]\n",
    "        except: pass\n",
    "\n",
    "# save\n",
    "\n",
    "with open('out.ipynb', 'w') as f: \n",
    "    f.write(json.dumps(notb_js))\n",
    "    f.close()"
   ]
  },
  {
   "cell_type": "code",
   "execution_count": null,
   "id": "cd240db4-18ea-46d4-9e93-bcbcf343c6f1",
   "metadata": {},
   "outputs": [],
   "source": []
  },
  {
   "cell_type": "code",
   "execution_count": null,
   "id": "dfab62fa-c290-4df2-ac5d-323bbab28ccc",
   "metadata": {},
   "outputs": [],
   "source": []
  },
  {
   "cell_type": "code",
   "execution_count": null,
   "id": "8b4342af-2002-4896-becc-2f38c31c2d33",
   "metadata": {},
   "outputs": [],
   "source": []
  }
 ],
 "metadata": {
  "kernelspec": {
   "display_name": "Python 3 (ipykernel)",
   "language": "python",
   "name": "python3"
  },
  "language_info": {
   "codemirror_mode": {
    "name": "ipython",
    "version": 3
   },
   "file_extension": ".py",
   "mimetype": "text/x-python",
   "name": "python",
   "nbconvert_exporter": "python",
   "pygments_lexer": "ipython3",
   "version": "3.10.5"
  }
 },
 "nbformat": 4,
 "nbformat_minor": 5
}
