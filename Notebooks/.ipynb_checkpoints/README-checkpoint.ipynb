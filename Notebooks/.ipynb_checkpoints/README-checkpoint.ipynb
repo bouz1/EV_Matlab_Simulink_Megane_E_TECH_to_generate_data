{
 "cells": [
  {
   "cell_type": "markdown",
   "id": "6bcdf0a3-d15b-44b8-b1a4-c87805f3abd2",
   "metadata": {},
   "source": [
    "<h1 style=\"text-align:center;\">\n",
    "RENAULT Megane E-TECH 220Hp 60kWh (EV): Generate a Time Series Dataset with Matlab/Simulink simulation model \n",
    "   \n",
    "</h1>"
   ]
  },
  {
   "cell_type": "markdown",
   "id": "fdd1337a-19fd-4177-aa76-5363ce9cf2bd",
   "metadata": {},
   "source": [
    "# Introduction"
   ]
  },
  {
   "cell_type": "markdown",
   "id": "51d0e65f-3655-4e04-b620-ff7613930ee5",
   "metadata": {},
   "source": [
    "The idea of this project is to generate a dataset of electric vehicle driving using a Matlab/simulink simulation model. The dataset will be published in many plateformes as kaggle and github to be accessible by others sudents / data scientist / analyst. <br><br>\n",
    "For this purpose, we will start by preparing the data (NEDC / WLTP and other driving data). In the second time we will discovering the Matlab subsystem by some plot of the elements test results. After that we will calculate the autonomy of each driving mode (WLTC, NEDC, HighWay, constant speed, ...). In the annexes you can see how we convert a matlab route to the right data of time, distance, speed, elevation, road gradient for Matlab simulation and also the Matlab/Simulink hypothesis and parameters"
   ]
  },
  {
   "cell_type": "markdown",
   "id": "6480e489-86d0-4d70-a597-4482f94e58b3",
   "metadata": {},
   "source": [
    "<img src='https://bouz1.github.io/fils/MEGAN_ETECH_220/projectCoverPicture.png'>\n"
   ]
  },
  {
   "cell_type": "markdown",
   "id": "61036d3c-c0db-4771-b972-b88f4e283cae",
   "metadata": {},
   "source": [
    "## Abbreviation & keywords"
   ]
  },
  {
   "cell_type": "markdown",
   "id": "f3ecd213-55ed-4150-aa6b-66fb2862d0c7",
   "metadata": {},
   "source": [
    "**Abbreviation**"
   ]
  },
  {
   "cell_type": "markdown",
   "id": "42ab6915-9795-4ee4-b601-9d2dae2a1f7b",
   "metadata": {},
   "source": [
    "Below some abbreviation that well be used in this project"
   ]
  },
  {
   "cell_type": "markdown",
   "id": "5217088e-6608-4644-b223-982aefe4a844",
   "metadata": {},
   "source": [
    "* EV : Electric vehicle\n",
    "* SOC : State of charge \n",
    "* Batt : Battery\n",
    "* INV : Inverter\n",
    "* NEDC : New European Driving Cycle\n",
    "* WLTC : Worldwide harmonized Light vehicles Test procedure Cycle"
   ]
  },
  {
   "cell_type": "markdown",
   "id": "831ff214-9155-461f-98dc-e8d5563a77e9",
   "metadata": {},
   "source": [
    "**Keywords**"
   ]
  },
  {
   "cell_type": "markdown",
   "id": "682ee7a1-0ce3-427a-939f-a96687039067",
   "metadata": {},
   "source": [
    "EV simulation, Matlab, Simulink, WLTP , NEDC, EV Dataset, Electric vehicle dataset, HV battery, EV Autonomy, electrical motor, Thrust, car drag, wheel rolling, Newton's second law, Highway driving"
   ]
  },
  {
   "cell_type": "markdown",
   "id": "9f53bcff-8e64-4242-8410-e617e3518ba2",
   "metadata": {},
   "source": [
    "## Links"
   ]
  },
  {
   "cell_type": "markdown",
   "id": "3d78fbd6-c0d5-4722-843f-d03f0267741b",
   "metadata": {},
   "source": [
    "* Github repository of this projet: https://github.com/bouz1/EV_Matlab_Simulink_Megane_E_TECH_to_generate_data/tree/main\n",
    "* The main file as HTML: https://bouz1.github.io/fils/MEGAN_ETECH_220/EV_Megan_E_TECH_Simulation_V0.html\n",
    "* The main file as notebook: https://github.com/bouz1/EV_Matlab_Simulink_Megane_E_TECH_to_generate_data/blob/main/Notebooks/EV_Megan_E_TECH_Simulation_V0.ipynb\n",
    "* The ouput dataset link in Github: https://github.com/bouz1/EV_Matlab_Simulink_Megane_E_TECH_to_generate_data/blob/main/data/output/MEGANE_E_TECH_EV60_220_driv_data.csv\n",
    "* The ouput dataset link in Kaggle: https://www.kaggle.com/datasets/bozzabb/ev-matlabsimulink-megane-e-tech-time-series-data/data"
   ]
  }
 ],
 "metadata": {
  "kernelspec": {
   "display_name": "Python 3 (ipykernel)",
   "language": "python",
   "name": "python3"
  },
  "language_info": {
   "codemirror_mode": {
    "name": "ipython",
    "version": 3
   },
   "file_extension": ".py",
   "mimetype": "text/x-python",
   "name": "python",
   "nbconvert_exporter": "python",
   "pygments_lexer": "ipython3",
   "version": "3.10.5"
  }
 },
 "nbformat": 4,
 "nbformat_minor": 5
}
